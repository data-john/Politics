{
 "cells": [
  {
   "cell_type": "code",
   "execution_count": 1,
   "metadata": {},
   "outputs": [],
   "source": [
    "import pandas as pd\n",
    "from polls import *"
   ]
  },
  {
   "cell_type": "code",
   "execution_count": 2,
   "metadata": {},
   "outputs": [
    {
     "data": {
      "text/plain": [
       "Con         0.249333\n",
       "Lab         0.435167\n",
       "Lib Dems    0.099167\n",
       "SNP         0.032667\n",
       "Green       0.059500\n",
       "Reform      0.102167\n",
       "Others      0.022000\n",
       "dtype: float64"
      ]
     },
     "execution_count": 2,
     "metadata": {},
     "output_type": "execute_result"
    }
   ],
   "source": [
    "# get_latest_polls_from_html(url_05, col_dict=col_dict05)\n",
    "def get_weighted_poll_avg(url, col_dict):\n",
    "\n",
    "    sdf = get_latest_polls_from_html(url,n=3)\n",
    "    sdf_m = sdf[col_dict.values()].mean()\n",
    "\n",
    "    ldf = get_latest_polls_from_html(url,n=10)\n",
    "    ldf_m = ldf[col_dict.values()].mean()\n",
    "    return pd.concat([sdf_m,ldf_m],axis=1).transpose().mean()"
   ]
  }
 ],
 "metadata": {
  "kernelspec": {
   "display_name": ".venv",
   "language": "python",
   "name": "python3"
  },
  "language_info": {
   "codemirror_mode": {
    "name": "ipython",
    "version": 3
   },
   "file_extension": ".py",
   "mimetype": "text/x-python",
   "name": "python",
   "nbconvert_exporter": "python",
   "pygments_lexer": "ipython3",
   "version": "3.11.4"
  }
 },
 "nbformat": 4,
 "nbformat_minor": 2
}
