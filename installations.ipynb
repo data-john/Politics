{
 "cells": [
  {
   "cell_type": "code",
   "execution_count": 1,
   "metadata": {},
   "outputs": [
    {
     "name": "stdout",
     "output_type": "stream",
     "text": [
      "Requirement already satisfied: pip in ./.venv/lib/python3.11/site-packages (24.0)\n",
      "Note: you may need to restart the kernel to use updated packages.\n",
      "Requirement already satisfied: pandas in ./.venv/lib/python3.11/site-packages (from -r requirements.txt (line 1)) (2.2.1)\n",
      "Requirement already satisfied: openpyxl in ./.venv/lib/python3.11/site-packages (from -r requirements.txt (line 2)) (3.1.2)\n",
      "Requirement already satisfied: scikit-learn in ./.venv/lib/python3.11/site-packages (from -r requirements.txt (line 3)) (1.4.1.post1)\n",
      "Requirement already satisfied: matplotlib in ./.venv/lib/python3.11/site-packages (from -r requirements.txt (line 4)) (3.8.3)\n",
      "Requirement already satisfied: lxml in ./.venv/lib/python3.11/site-packages (from -r requirements.txt (line 5)) (5.1.0)\n",
      "Requirement already satisfied: google_spreadsheet in ./.venv/lib/python3.11/site-packages (from -r requirements.txt (line 6)) (0.0.6)\n",
      "Requirement already satisfied: google-auth-oauthlib in ./.venv/lib/python3.11/site-packages (from -r requirements.txt (line 7)) (1.2.0)\n",
      "Requirement already satisfied: geopy in ./.venv/lib/python3.11/site-packages (from -r requirements.txt (line 8)) (2.4.1)\n",
      "Collecting seaborn (from -r requirements.txt (line 9))\n",
      "  Downloading seaborn-0.13.2-py3-none-any.whl.metadata (5.4 kB)\n",
      "Requirement already satisfied: numpy<2,>=1.23.2 in ./.venv/lib/python3.11/site-packages (from pandas->-r requirements.txt (line 1)) (1.26.4)\n",
      "Requirement already satisfied: python-dateutil>=2.8.2 in ./.venv/lib/python3.11/site-packages (from pandas->-r requirements.txt (line 1)) (2.8.2)\n",
      "Requirement already satisfied: pytz>=2020.1 in ./.venv/lib/python3.11/site-packages (from pandas->-r requirements.txt (line 1)) (2024.1)\n",
      "Requirement already satisfied: tzdata>=2022.7 in ./.venv/lib/python3.11/site-packages (from pandas->-r requirements.txt (line 1)) (2024.1)\n",
      "Requirement already satisfied: et-xmlfile in ./.venv/lib/python3.11/site-packages (from openpyxl->-r requirements.txt (line 2)) (1.1.0)\n",
      "Requirement already satisfied: scipy>=1.6.0 in ./.venv/lib/python3.11/site-packages (from scikit-learn->-r requirements.txt (line 3)) (1.12.0)\n",
      "Requirement already satisfied: joblib>=1.2.0 in ./.venv/lib/python3.11/site-packages (from scikit-learn->-r requirements.txt (line 3)) (1.3.2)\n",
      "Requirement already satisfied: threadpoolctl>=2.0.0 in ./.venv/lib/python3.11/site-packages (from scikit-learn->-r requirements.txt (line 3)) (3.3.0)\n",
      "Requirement already satisfied: contourpy>=1.0.1 in ./.venv/lib/python3.11/site-packages (from matplotlib->-r requirements.txt (line 4)) (1.2.0)\n",
      "Requirement already satisfied: cycler>=0.10 in ./.venv/lib/python3.11/site-packages (from matplotlib->-r requirements.txt (line 4)) (0.12.1)\n",
      "Requirement already satisfied: fonttools>=4.22.0 in ./.venv/lib/python3.11/site-packages (from matplotlib->-r requirements.txt (line 4)) (4.49.0)\n",
      "Requirement already satisfied: kiwisolver>=1.3.1 in ./.venv/lib/python3.11/site-packages (from matplotlib->-r requirements.txt (line 4)) (1.4.5)\n",
      "Requirement already satisfied: packaging>=20.0 in ./.venv/lib/python3.11/site-packages (from matplotlib->-r requirements.txt (line 4)) (23.2)\n",
      "Requirement already satisfied: pillow>=8 in ./.venv/lib/python3.11/site-packages (from matplotlib->-r requirements.txt (line 4)) (10.2.0)\n",
      "Requirement already satisfied: pyparsing>=2.3.1 in ./.venv/lib/python3.11/site-packages (from matplotlib->-r requirements.txt (line 4)) (3.1.1)\n",
      "Requirement already satisfied: oauth2client>=2.2.0 in ./.venv/lib/python3.11/site-packages (from google_spreadsheet->-r requirements.txt (line 6)) (4.1.3)\n",
      "Requirement already satisfied: google-api-python-client>=1.5.1 in ./.venv/lib/python3.11/site-packages (from google_spreadsheet->-r requirements.txt (line 6)) (2.120.0)\n",
      "Requirement already satisfied: google-auth>=2.15.0 in ./.venv/lib/python3.11/site-packages (from google-auth-oauthlib->-r requirements.txt (line 7)) (2.28.1)\n",
      "Requirement already satisfied: requests-oauthlib>=0.7.0 in ./.venv/lib/python3.11/site-packages (from google-auth-oauthlib->-r requirements.txt (line 7)) (1.3.1)\n",
      "Requirement already satisfied: geographiclib<3,>=1.52 in ./.venv/lib/python3.11/site-packages (from geopy->-r requirements.txt (line 8)) (2.0)\n",
      "Requirement already satisfied: httplib2<1.dev0,>=0.15.0 in ./.venv/lib/python3.11/site-packages (from google-api-python-client>=1.5.1->google_spreadsheet->-r requirements.txt (line 6)) (0.22.0)\n",
      "Requirement already satisfied: google-auth-httplib2>=0.1.0 in ./.venv/lib/python3.11/site-packages (from google-api-python-client>=1.5.1->google_spreadsheet->-r requirements.txt (line 6)) (0.2.0)\n",
      "Requirement already satisfied: google-api-core!=2.0.*,!=2.1.*,!=2.2.*,!=2.3.0,<3.0.0.dev0,>=1.31.5 in ./.venv/lib/python3.11/site-packages (from google-api-python-client>=1.5.1->google_spreadsheet->-r requirements.txt (line 6)) (2.17.1)\n",
      "Requirement already satisfied: uritemplate<5,>=3.0.1 in ./.venv/lib/python3.11/site-packages (from google-api-python-client>=1.5.1->google_spreadsheet->-r requirements.txt (line 6)) (4.1.1)\n",
      "Requirement already satisfied: cachetools<6.0,>=2.0.0 in ./.venv/lib/python3.11/site-packages (from google-auth>=2.15.0->google-auth-oauthlib->-r requirements.txt (line 7)) (5.3.3)\n",
      "Requirement already satisfied: pyasn1-modules>=0.2.1 in ./.venv/lib/python3.11/site-packages (from google-auth>=2.15.0->google-auth-oauthlib->-r requirements.txt (line 7)) (0.3.0)\n",
      "Requirement already satisfied: rsa<5,>=3.1.4 in ./.venv/lib/python3.11/site-packages (from google-auth>=2.15.0->google-auth-oauthlib->-r requirements.txt (line 7)) (4.9)\n",
      "Requirement already satisfied: pyasn1>=0.1.7 in ./.venv/lib/python3.11/site-packages (from oauth2client>=2.2.0->google_spreadsheet->-r requirements.txt (line 6)) (0.5.1)\n",
      "Requirement already satisfied: six>=1.6.1 in ./.venv/lib/python3.11/site-packages (from oauth2client>=2.2.0->google_spreadsheet->-r requirements.txt (line 6)) (1.16.0)\n",
      "Requirement already satisfied: oauthlib>=3.0.0 in ./.venv/lib/python3.11/site-packages (from requests-oauthlib>=0.7.0->google-auth-oauthlib->-r requirements.txt (line 7)) (3.2.2)\n",
      "Requirement already satisfied: requests>=2.0.0 in ./.venv/lib/python3.11/site-packages (from requests-oauthlib>=0.7.0->google-auth-oauthlib->-r requirements.txt (line 7)) (2.31.0)\n",
      "Requirement already satisfied: googleapis-common-protos<2.0.dev0,>=1.56.2 in ./.venv/lib/python3.11/site-packages (from google-api-core!=2.0.*,!=2.1.*,!=2.2.*,!=2.3.0,<3.0.0.dev0,>=1.31.5->google-api-python-client>=1.5.1->google_spreadsheet->-r requirements.txt (line 6)) (1.62.0)\n",
      "Requirement already satisfied: protobuf!=3.20.0,!=3.20.1,!=4.21.0,!=4.21.1,!=4.21.2,!=4.21.3,!=4.21.4,!=4.21.5,<5.0.0.dev0,>=3.19.5 in ./.venv/lib/python3.11/site-packages (from google-api-core!=2.0.*,!=2.1.*,!=2.2.*,!=2.3.0,<3.0.0.dev0,>=1.31.5->google-api-python-client>=1.5.1->google_spreadsheet->-r requirements.txt (line 6)) (4.25.3)\n",
      "Requirement already satisfied: charset-normalizer<4,>=2 in ./.venv/lib/python3.11/site-packages (from requests>=2.0.0->requests-oauthlib>=0.7.0->google-auth-oauthlib->-r requirements.txt (line 7)) (3.3.2)\n",
      "Requirement already satisfied: idna<4,>=2.5 in ./.venv/lib/python3.11/site-packages (from requests>=2.0.0->requests-oauthlib>=0.7.0->google-auth-oauthlib->-r requirements.txt (line 7)) (3.6)\n",
      "Requirement already satisfied: urllib3<3,>=1.21.1 in ./.venv/lib/python3.11/site-packages (from requests>=2.0.0->requests-oauthlib>=0.7.0->google-auth-oauthlib->-r requirements.txt (line 7)) (2.2.1)\n",
      "Requirement already satisfied: certifi>=2017.4.17 in ./.venv/lib/python3.11/site-packages (from requests>=2.0.0->requests-oauthlib>=0.7.0->google-auth-oauthlib->-r requirements.txt (line 7)) (2024.2.2)\n",
      "Downloading seaborn-0.13.2-py3-none-any.whl (294 kB)\n",
      "\u001b[2K   \u001b[90m━━━━━━━━━━━━━━━━━━━━━━━━━━━━━━━━━━━━━━━━\u001b[0m \u001b[32m294.9/294.9 kB\u001b[0m \u001b[31m6.1 MB/s\u001b[0m eta \u001b[36m0:00:00\u001b[0ma \u001b[36m0:00:01\u001b[0m\n",
      "\u001b[?25hInstalling collected packages: seaborn\n",
      "Successfully installed seaborn-0.13.2\n",
      "Note: you may need to restart the kernel to use updated packages.\n"
     ]
    }
   ],
   "source": [
    "%pip install -U pip\n",
    "%pip install -r requirements.txt"
   ]
  }
 ],
 "metadata": {
  "kernelspec": {
   "display_name": ".venv",
   "language": "python",
   "name": "python3"
  },
  "language_info": {
   "codemirror_mode": {
    "name": "ipython",
    "version": 3
   },
   "file_extension": ".py",
   "mimetype": "text/x-python",
   "name": "python",
   "nbconvert_exporter": "python",
   "pygments_lexer": "ipython3",
   "version": "3.11.4"
  }
 },
 "nbformat": 4,
 "nbformat_minor": 2
}
